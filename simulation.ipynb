{
 "cells": [
  {
   "cell_type": "markdown",
   "id": "1874f255",
   "metadata": {},
   "source": [
    "## Simulation exercises"
   ]
  },
  {
   "cell_type": "code",
   "execution_count": 1,
   "id": "477f2b11",
   "metadata": {},
   "outputs": [],
   "source": [
    "import matplotlib.pyplot as plt\n",
    "import numpy as np\n",
    "import pandas as pd\n",
    "\n",
    "np.random.seed(50)"
   ]
  },
  {
   "cell_type": "markdown",
   "id": "f1cd4b14",
   "metadata": {},
   "source": [
    "### 1. How likely is it that you roll doubles when rolling two dice?"
   ]
  },
  {
   "cell_type": "code",
   "execution_count": 3,
   "id": "50ea58b7",
   "metadata": {},
   "outputs": [
    {
     "data": {
      "text/plain": [
       "array([[1, 6],\n",
       "       [4, 1],\n",
       "       [2, 3],\n",
       "       ...,\n",
       "       [2, 6],\n",
       "       [2, 1],\n",
       "       [6, 5]])"
      ]
     },
     "execution_count": 3,
     "metadata": {},
     "output_type": "execute_result"
    }
   ],
   "source": [
    "n_trials = 10**5\n",
    "n_rolls = 2\n",
    "\n",
    "rolls = np.random.choice([1, 2, 3, 4, 5, 6], n_trials * n_rolls).reshape(n_trials, n_rolls)\n",
    "rolls"
   ]
  },
  {
   "cell_type": "code",
   "execution_count": 79,
   "id": "8bd12960",
   "metadata": {},
   "outputs": [
    {
     "data": {
      "text/plain": [
       "0.16706"
      ]
     },
     "execution_count": 79,
     "metadata": {},
     "output_type": "execute_result"
    }
   ],
   "source": [
    "(pd.DataFrame(rolls)[0] == pd.DataFrame(rolls)[1]).mean()"
   ]
  },
  {
   "cell_type": "markdown",
   "id": "8c8cc949",
   "metadata": {},
   "source": [
    "### 2. If you flip 8 coins, what is the probability of getting exactly 3 heads? What is the probability of getting more than 3 heads?"
   ]
  },
  {
   "cell_type": "code",
   "execution_count": 13,
   "id": "172e6251",
   "metadata": {},
   "outputs": [
    {
     "data": {
      "text/plain": [
       "array([['Heads', 'Tails', 'Tails', 'Heads', 'Heads', 'Heads', 'Heads',\n",
       "        'Heads'],\n",
       "       ['Tails', 'Heads', 'Heads', 'Tails', 'Heads', 'Tails', 'Heads',\n",
       "        'Tails'],\n",
       "       ['Heads', 'Heads', 'Tails', 'Tails', 'Heads', 'Tails', 'Tails',\n",
       "        'Tails'],\n",
       "       ['Heads', 'Heads', 'Tails', 'Tails', 'Tails', 'Tails', 'Heads',\n",
       "        'Heads'],\n",
       "       ['Tails', 'Heads', 'Tails', 'Heads', 'Heads', 'Tails', 'Heads',\n",
       "        'Heads'],\n",
       "       ['Heads', 'Tails', 'Tails', 'Heads', 'Heads', 'Tails', 'Heads',\n",
       "        'Heads'],\n",
       "       ['Heads', 'Tails', 'Heads', 'Tails', 'Heads', 'Tails', 'Heads',\n",
       "        'Tails']], dtype='<U5')"
      ]
     },
     "execution_count": 13,
     "metadata": {},
     "output_type": "execute_result"
    }
   ],
   "source": [
    "n_flips = columns = 8\n",
    "n_trials = rows = 10**5\n",
    "all_flips = np.random.choice(['Heads', 'Tails'], size = (10**5, 8))\n",
    "all_flips[0:7]"
   ]
  },
  {
   "cell_type": "code",
   "execution_count": 14,
   "id": "02427538",
   "metadata": {},
   "outputs": [
    {
     "data": {
      "text/plain": [
       "array([[ True, False, False,  True,  True,  True,  True,  True],\n",
       "       [False,  True,  True, False,  True, False,  True, False],\n",
       "       [ True,  True, False, False,  True, False, False, False],\n",
       "       [ True,  True, False, False, False, False,  True,  True],\n",
       "       [False,  True, False,  True,  True, False,  True,  True]])"
      ]
     },
     "execution_count": 14,
     "metadata": {},
     "output_type": "execute_result"
    }
   ],
   "source": [
    "(all_flips == 'Heads')[0:5]"
   ]
  },
  {
   "cell_type": "code",
   "execution_count": 15,
   "id": "6ffd6b3e",
   "metadata": {},
   "outputs": [
    {
     "data": {
      "text/plain": [
       "100000"
      ]
     },
     "execution_count": 15,
     "metadata": {},
     "output_type": "execute_result"
    }
   ],
   "source": [
    "len(all_flips == 'Heads')"
   ]
  },
  {
   "cell_type": "code",
   "execution_count": 86,
   "id": "618205b0",
   "metadata": {},
   "outputs": [
    {
     "data": {
      "text/plain": [
       "0.85462"
      ]
     },
     "execution_count": 86,
     "metadata": {},
     "output_type": "execute_result"
    }
   ],
   "source": [
    "(good_flip.sum(axis=1) >= 3).mean()"
   ]
  },
  {
   "cell_type": "markdown",
   "id": "60621f31",
   "metadata": {},
   "source": [
    "#### 3. There are approximitely 3 web development cohorts for every 1 data science cohort at Codeup. Assuming that Codeup randomly selects an alumni to put on a billboard, what are the odds that the two billboards I drive past both have data science students on them?"
   ]
  },
  {
   "cell_type": "markdown",
   "id": "c4aeb95e",
   "metadata": {},
   "source": [
    "### Example with one pick"
   ]
  },
  {
   "cell_type": "code",
   "execution_count": 90,
   "id": "eece17f3",
   "metadata": {},
   "outputs": [],
   "source": [
    "n_picks = columns = 2\n",
    "n_trials = rows = 1\n",
    "p_pick = .5"
   ]
  },
  {
   "cell_type": "code",
   "execution_count": 92,
   "id": "0ad64e27",
   "metadata": {
    "scrolled": true
   },
   "outputs": [
    {
     "data": {
      "text/plain": [
       "array([[0.08224087, 0.23166557]])"
      ]
     },
     "execution_count": 92,
     "metadata": {},
     "output_type": "execute_result"
    }
   ],
   "source": [
    "data = np.random.random((rows, columns))\n",
    "data"
   ]
  },
  {
   "cell_type": "code",
   "execution_count": 93,
   "id": "03a9bc82",
   "metadata": {},
   "outputs": [],
   "source": [
    "ds_student_billboard = data < p_pick"
   ]
  },
  {
   "cell_type": "code",
   "execution_count": 94,
   "id": "76614660",
   "metadata": {},
   "outputs": [
    {
     "data": {
      "text/plain": [
       "array([2])"
      ]
     },
     "execution_count": 94,
     "metadata": {},
     "output_type": "execute_result"
    }
   ],
   "source": [
    "ds_student_billboard.sum(axis=1)"
   ]
  },
  {
   "cell_type": "code",
   "execution_count": 101,
   "id": "600beb1e",
   "metadata": {},
   "outputs": [
    {
     "data": {
      "text/plain": [
       "0.2482"
      ]
     },
     "execution_count": 101,
     "metadata": {},
     "output_type": "execute_result"
    }
   ],
   "source": [
    "(ds_student_billboard.sum(axis=1) == 2).mean()"
   ]
  },
  {
   "cell_type": "markdown",
   "id": "db7dde2f",
   "metadata": {},
   "source": [
    "### Example with 10,000,000 picks"
   ]
  },
  {
   "cell_type": "code",
   "execution_count": 1,
   "id": "a3001f34",
   "metadata": {},
   "outputs": [],
   "source": [
    "n_picks = columns = 2\n",
    "n_trials = rows = 10**7\n",
    "p_pick = .5"
   ]
  },
  {
   "cell_type": "code",
   "execution_count": 3,
   "id": "e9da06b2",
   "metadata": {},
   "outputs": [
    {
     "data": {
      "text/plain": [
       "array([[0.86375999, 0.28490597],\n",
       "       [0.07325639, 0.7632372 ],\n",
       "       [0.45271906, 0.54229687],\n",
       "       ...,\n",
       "       [0.39422878, 0.80384332],\n",
       "       [0.49698887, 0.83156291],\n",
       "       [0.14208256, 0.86654939]])"
      ]
     },
     "execution_count": 3,
     "metadata": {},
     "output_type": "execute_result"
    }
   ],
   "source": [
    "data = np.random.random((rows, columns))\n",
    "data"
   ]
  },
  {
   "cell_type": "code",
   "execution_count": 4,
   "id": "9a5de89d",
   "metadata": {},
   "outputs": [],
   "source": [
    "ds_student_billboard = data < p_pick"
   ]
  },
  {
   "cell_type": "code",
   "execution_count": 5,
   "id": "307a19f4",
   "metadata": {},
   "outputs": [
    {
     "data": {
      "text/plain": [
       "array([1, 1, 1, ..., 1, 1, 1])"
      ]
     },
     "execution_count": 5,
     "metadata": {},
     "output_type": "execute_result"
    }
   ],
   "source": [
    "ds_student_billboard.sum(axis=1)"
   ]
  },
  {
   "cell_type": "code",
   "execution_count": 6,
   "id": "b967a45e",
   "metadata": {},
   "outputs": [
    {
     "data": {
      "text/plain": [
       "0.2497769"
      ]
     },
     "execution_count": 6,
     "metadata": {},
     "output_type": "execute_result"
    }
   ],
   "source": [
    "(ds_student_billboard.sum(axis=1) == 2).mean()"
   ]
  },
  {
   "cell_type": "markdown",
   "id": "06afc2e6",
   "metadata": {},
   "source": [
    "#### 4. Codeup students buy, on average, 3 poptart packages with a standard deviation of 1.5 a day from the snack vending machine. If on monday the machine is restocked with 17 poptart packages, how likely is it that I will be able to buy some poptarts on Friday afternoon? (Remember, if you have mean and standard deviation, use the np.random.normal)"
   ]
  }
 ],
 "metadata": {
  "kernelspec": {
   "display_name": "Python 3 (ipykernel)",
   "language": "python",
   "name": "python3"
  },
  "language_info": {
   "codemirror_mode": {
    "name": "ipython",
    "version": 3
   },
   "file_extension": ".py",
   "mimetype": "text/x-python",
   "name": "python",
   "nbconvert_exporter": "python",
   "pygments_lexer": "ipython3",
   "version": "3.9.7"
  }
 },
 "nbformat": 4,
 "nbformat_minor": 5
}
