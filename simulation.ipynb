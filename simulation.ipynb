{
 "cells": [
  {
   "cell_type": "markdown",
   "id": "1874f255",
   "metadata": {},
   "source": [
    "## Simulation exercises"
   ]
  },
  {
   "cell_type": "code",
   "execution_count": 2,
   "id": "477f2b11",
   "metadata": {},
   "outputs": [],
   "source": [
    "%matplotlib inline\n",
    "import numpy as np\n",
    "import pandas as pd\n",
    "\n",
    "np.random.seed(29)"
   ]
  },
  {
   "cell_type": "markdown",
   "id": "f1cd4b14",
   "metadata": {},
   "source": [
    "#### 1. How likely is it that you roll doubles when rolling two dice?"
   ]
  },
  {
   "cell_type": "code",
   "execution_count": 73,
   "id": "50ea58b7",
   "metadata": {},
   "outputs": [
    {
     "data": {
      "text/plain": [
       "array([[2, 3],\n",
       "       [2, 4],\n",
       "       [6, 4],\n",
       "       ...,\n",
       "       [3, 1],\n",
       "       [3, 6],\n",
       "       [1, 2]])"
      ]
     },
     "execution_count": 73,
     "metadata": {},
     "output_type": "execute_result"
    }
   ],
   "source": [
    "n_trials = 10**5\n",
    "n_rolls = 2\n",
    "\n",
    "rolls = np.random.choice([1, 2, 3, 4, 5, 6], n_trials * n_rolls).reshape(n_trials, n_rolls)\n",
    "rolls"
   ]
  },
  {
   "cell_type": "code",
   "execution_count": 79,
   "id": "8bd12960",
   "metadata": {},
   "outputs": [
    {
     "data": {
      "text/plain": [
       "0.16706"
      ]
     },
     "execution_count": 79,
     "metadata": {},
     "output_type": "execute_result"
    }
   ],
   "source": [
    "(pd.DataFrame(rolls)[0] == pd.DataFrame(rolls)[1]).mean()"
   ]
  },
  {
   "cell_type": "markdown",
   "id": "8c8cc949",
   "metadata": {},
   "source": [
    "#### 2. If you flip 8 coins, what is the probability of getting exactly 3 heads? What is the probability of getting more than 3 heads?"
   ]
  },
  {
   "cell_type": "code",
   "execution_count": 66,
   "id": "172e6251",
   "metadata": {},
   "outputs": [],
   "source": [
    "n_flips = columns = 8\n",
    "n_trials = rows = 10**5\n",
    "p_flip = .5"
   ]
  },
  {
   "cell_type": "code",
   "execution_count": 67,
   "id": "a9eaec38",
   "metadata": {},
   "outputs": [
    {
     "data": {
      "text/plain": [
       "array([[0.34350279, 0.46872199, 0.62307566, ..., 0.34552021, 0.85025438,\n",
       "        0.68426358],\n",
       "       [0.11116887, 0.26073575, 0.92681934, ..., 0.17709068, 0.79597504,\n",
       "        0.1781185 ],\n",
       "       [0.3096851 , 0.45641581, 0.1368052 , ..., 0.90814205, 0.36709877,\n",
       "        0.46369507],\n",
       "       ...,\n",
       "       [0.74326292, 0.38304466, 0.984331  , ..., 0.54102893, 0.26555776,\n",
       "        0.80292954],\n",
       "       [0.84927074, 0.5164997 , 0.22938739, ..., 0.36733016, 0.03632645,\n",
       "        0.61638297],\n",
       "       [0.13699901, 0.46277923, 0.57159378, ..., 0.58121855, 0.35342604,\n",
       "        0.10127986]])"
      ]
     },
     "execution_count": 67,
     "metadata": {},
     "output_type": "execute_result"
    }
   ],
   "source": [
    "data = np.random.random((rows, columns))\n",
    "data"
   ]
  },
  {
   "cell_type": "code",
   "execution_count": 68,
   "id": "02427538",
   "metadata": {},
   "outputs": [
    {
     "data": {
      "text/plain": [
       "array([[ True,  True, False, ...,  True, False, False],\n",
       "       [ True,  True, False, ...,  True, False,  True],\n",
       "       [ True,  True,  True, ..., False,  True,  True],\n",
       "       ...,\n",
       "       [False,  True, False, ..., False,  True, False],\n",
       "       [False, False,  True, ...,  True,  True, False],\n",
       "       [ True,  True, False, ..., False,  True,  True]])"
      ]
     },
     "execution_count": 68,
     "metadata": {},
     "output_type": "execute_result"
    }
   ],
   "source": [
    "good_flip = data < p_flip\n",
    "good_flip"
   ]
  },
  {
   "cell_type": "code",
   "execution_count": 71,
   "id": "6ffd6b3e",
   "metadata": {},
   "outputs": [
    {
     "data": {
      "text/plain": [
       "array([4, 5, 5, ..., 2, 3, 5])"
      ]
     },
     "execution_count": 71,
     "metadata": {},
     "output_type": "execute_result"
    }
   ],
   "source": [
    "good_flip.sum(axis=1)"
   ]
  },
  {
   "cell_type": "code",
   "execution_count": 86,
   "id": "618205b0",
   "metadata": {},
   "outputs": [
    {
     "data": {
      "text/plain": [
       "0.85462"
      ]
     },
     "execution_count": 86,
     "metadata": {},
     "output_type": "execute_result"
    }
   ],
   "source": [
    "(good_flip.sum(axis=1) >= 3).mean()"
   ]
  },
  {
   "cell_type": "markdown",
   "id": "60621f31",
   "metadata": {},
   "source": [
    "#### 3. There are approximitely 3 web development cohorts for every 1 data science cohort at Codeup. Assuming that Codeup randomly selects an alumni to put on a billboard, what are the odds that the two billboards I drive past both have data science students on them?"
   ]
  },
  {
   "cell_type": "markdown",
   "id": "c4aeb95e",
   "metadata": {},
   "source": [
    "### Example with one pick"
   ]
  },
  {
   "cell_type": "code",
   "execution_count": 90,
   "id": "eece17f3",
   "metadata": {},
   "outputs": [],
   "source": [
    "n_picks = columns = 2\n",
    "n_trials = rows = 1\n",
    "p_pick = .5"
   ]
  },
  {
   "cell_type": "code",
   "execution_count": 92,
   "id": "0ad64e27",
   "metadata": {
    "scrolled": true
   },
   "outputs": [
    {
     "data": {
      "text/plain": [
       "array([[0.08224087, 0.23166557]])"
      ]
     },
     "execution_count": 92,
     "metadata": {},
     "output_type": "execute_result"
    }
   ],
   "source": [
    "data = np.random.random((rows, columns))\n",
    "data"
   ]
  },
  {
   "cell_type": "code",
   "execution_count": 93,
   "id": "03a9bc82",
   "metadata": {},
   "outputs": [],
   "source": [
    "ds_student_billboard = data < p_pick"
   ]
  },
  {
   "cell_type": "code",
   "execution_count": 94,
   "id": "76614660",
   "metadata": {},
   "outputs": [
    {
     "data": {
      "text/plain": [
       "array([2])"
      ]
     },
     "execution_count": 94,
     "metadata": {},
     "output_type": "execute_result"
    }
   ],
   "source": [
    "ds_student_billboard.sum(axis=1)"
   ]
  },
  {
   "cell_type": "code",
   "execution_count": 101,
   "id": "600beb1e",
   "metadata": {},
   "outputs": [
    {
     "data": {
      "text/plain": [
       "0.2482"
      ]
     },
     "execution_count": 101,
     "metadata": {},
     "output_type": "execute_result"
    }
   ],
   "source": [
    "(ds_student_billboard.sum(axis=1) == 2).mean()"
   ]
  },
  {
   "cell_type": "markdown",
   "id": "db7dde2f",
   "metadata": {},
   "source": [
    "### Example with 10,000,000 picks"
   ]
  },
  {
   "cell_type": "code",
   "execution_count": 1,
   "id": "a3001f34",
   "metadata": {},
   "outputs": [],
   "source": [
    "n_picks = columns = 2\n",
    "n_trials = rows = 10**7\n",
    "p_pick = .5"
   ]
  },
  {
   "cell_type": "code",
   "execution_count": 3,
   "id": "e9da06b2",
   "metadata": {},
   "outputs": [
    {
     "data": {
      "text/plain": [
       "array([[0.86375999, 0.28490597],\n",
       "       [0.07325639, 0.7632372 ],\n",
       "       [0.45271906, 0.54229687],\n",
       "       ...,\n",
       "       [0.39422878, 0.80384332],\n",
       "       [0.49698887, 0.83156291],\n",
       "       [0.14208256, 0.86654939]])"
      ]
     },
     "execution_count": 3,
     "metadata": {},
     "output_type": "execute_result"
    }
   ],
   "source": [
    "data = np.random.random((rows, columns))\n",
    "data"
   ]
  },
  {
   "cell_type": "code",
   "execution_count": 4,
   "id": "9a5de89d",
   "metadata": {},
   "outputs": [],
   "source": [
    "ds_student_billboard = data < p_pick"
   ]
  },
  {
   "cell_type": "code",
   "execution_count": 5,
   "id": "307a19f4",
   "metadata": {},
   "outputs": [
    {
     "data": {
      "text/plain": [
       "array([1, 1, 1, ..., 1, 1, 1])"
      ]
     },
     "execution_count": 5,
     "metadata": {},
     "output_type": "execute_result"
    }
   ],
   "source": [
    "ds_student_billboard.sum(axis=1)"
   ]
  },
  {
   "cell_type": "code",
   "execution_count": 6,
   "id": "b967a45e",
   "metadata": {},
   "outputs": [
    {
     "data": {
      "text/plain": [
       "0.2497769"
      ]
     },
     "execution_count": 6,
     "metadata": {},
     "output_type": "execute_result"
    }
   ],
   "source": [
    "(ds_student_billboard.sum(axis=1) == 2).mean()"
   ]
  },
  {
   "cell_type": "markdown",
   "id": "06afc2e6",
   "metadata": {},
   "source": [
    "#### 4. Codeup students buy, on average, 3 poptart packages with a standard deviation of 1.5 a day from the snack vending machine. If on monday the machine is restocked with 17 poptart packages, how likely is it that I will be able to buy some poptarts on Friday afternoon? (Remember, if you have mean and standard deviation, use the np.random.normal)"
   ]
  }
 ],
 "metadata": {
  "kernelspec": {
   "display_name": "Python 3 (ipykernel)",
   "language": "python",
   "name": "python3"
  },
  "language_info": {
   "codemirror_mode": {
    "name": "ipython",
    "version": 3
   },
   "file_extension": ".py",
   "mimetype": "text/x-python",
   "name": "python",
   "nbconvert_exporter": "python",
   "pygments_lexer": "ipython3",
   "version": "3.9.7"
  }
 },
 "nbformat": 4,
 "nbformat_minor": 5
}
