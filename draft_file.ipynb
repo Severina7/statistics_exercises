{
 "cells": [
  {
   "cell_type": "code",
   "execution_count": 2,
   "id": "a0a4a1f1",
   "metadata": {},
   "outputs": [],
   "source": [
    "import pandas as pd\n",
    "import numpy as np\n",
    "import matplotlib.pyplot as plt"
   ]
  },
  {
   "cell_type": "code",
   "execution_count": 9,
   "id": "5adce079",
   "metadata": {},
   "outputs": [
    {
     "data": {
      "text/plain": [
       "0    1\n",
       "1    3\n",
       "2    4\n",
       "3    5\n",
       "4    6\n",
       "5    7\n",
       "dtype: int64"
      ]
     },
     "execution_count": 9,
     "metadata": {},
     "output_type": "execute_result"
    }
   ],
   "source": [
    "letters_series = pd.Series([1, 3, 4, 5, 6, 7])\n",
    "letters_series"
   ]
  },
  {
   "cell_type": "code",
   "execution_count": 23,
   "id": "47596bfa",
   "metadata": {},
   "outputs": [
    {
     "data": {
      "text/plain": [
       "array([0, 1, 2, 3, 4])"
      ]
     },
     "execution_count": 23,
     "metadata": {},
     "output_type": "execute_result"
    }
   ],
   "source": [
    "a = np.arange(0, 5)\n",
    "a"
   ]
  },
  {
   "cell_type": "code",
   "execution_count": 21,
   "id": "caa56dff",
   "metadata": {},
   "outputs": [
    {
     "data": {
      "text/plain": [
       "array([5, 6, 7, 8, 9])"
      ]
     },
     "execution_count": 21,
     "metadata": {},
     "output_type": "execute_result"
    }
   ],
   "source": [
    "b = np.arange(5, 10)\n",
    "b"
   ]
  },
  {
   "cell_type": "code",
   "execution_count": 37,
   "id": "af61f8e4",
   "metadata": {},
   "outputs": [
    {
     "data": {
      "text/plain": [
       "array([ 5,  7,  9, 11, 13])"
      ]
     },
     "execution_count": 37,
     "metadata": {},
     "output_type": "execute_result"
    }
   ],
   "source": [
    "res = []\n",
    "for i in range(len(a)):\n",
    "    res.append(a[i] + b[i])\n",
    "np.array(res)"
   ]
  },
  {
   "cell_type": "code",
   "execution_count": 52,
   "id": "5a9e352b",
   "metadata": {},
   "outputs": [
    {
     "name": "stdout",
     "output_type": "stream",
     "text": [
      " Python Original list 1: [5, 10, 15, 20, 25, 30]\n",
      "Python Original list 2: [2, 4, 6, 8, 10, 12]\n",
      " Addition of the list lt1 and lt2 is: [7, 14, 21, 28, 35, 42]\n"
     ]
    }
   ],
   "source": [
    "# initialize the Python lists  \n",
    "lt1 = [5, 10, 15, 20, 25, 30]  \n",
    "lt2 = [2, 4, 6, 8, 10, 12]  \n",
    "  \n",
    "# print the original list element  \n",
    "print ( \" Python Original list 1: \" + str (lt1))  \n",
    "print ( \"Python Original list 2: \" + str (lt2))  \n",
    "  \n",
    "# use naive method to add two list.  \n",
    "res_lt = [] # declaration of the list  \n",
    "for x in range (0, len (lt1)):  \n",
    "    res_lt.append( lt1[x] + lt2[x])  \n",
    "  \n",
    "# Display the sum of two list in Python  \n",
    "print ( \" Addition of the list lt1 and lt2 is: \" + str (res_lt))  "
   ]
  },
  {
   "cell_type": "code",
   "execution_count": 55,
   "id": "f67341aa",
   "metadata": {},
   "outputs": [
    {
     "data": {
      "text/plain": [
       "array([0, 1, 2, 3, 4, 5])"
      ]
     },
     "execution_count": 55,
     "metadata": {},
     "output_type": "execute_result"
    }
   ],
   "source": [
    "a = np.arange(0, 6)\n",
    "a"
   ]
  },
  {
   "cell_type": "code",
   "execution_count": 56,
   "id": "d62335b8",
   "metadata": {},
   "outputs": [
    {
     "data": {
      "text/plain": [
       "array([10, 11, 12, 13, 14, 15])"
      ]
     },
     "execution_count": 56,
     "metadata": {},
     "output_type": "execute_result"
    }
   ],
   "source": [
    "a + 10"
   ]
  },
  {
   "cell_type": "code",
   "execution_count": null,
   "id": "ce297658",
   "metadata": {},
   "outputs": [],
   "source": [
    "(users.merge(roles, \n",
    "            left_on='role_id', \n",
    "            right_on='id', \n",
    "            how='outer')\n",
    "    .drop(columns='role_id')\n",
    "    .rename(columns={'id_x': 'id', \n",
    "                     'name_x': 'employee',\n",
    "                     'id_y': 'role_id',\n",
    "                     'name_y': 'role'}\n",
    "            )\n",
    ")\n"
   ]
  },
  {
   "cell_type": "code",
   "execution_count": 1,
   "id": "5ca19b07",
   "metadata": {},
   "outputs": [
    {
     "data": {
      "text/plain": [
       "0.30000000000000004"
      ]
     },
     "execution_count": 1,
     "metadata": {},
     "output_type": "execute_result"
    }
   ],
   "source": [
    "0.1 + 0.2"
   ]
  },
  {
   "cell_type": "code",
   "execution_count": 8,
   "id": "280c70b7",
   "metadata": {},
   "outputs": [
    {
     "data": {
      "text/plain": [
       "0.30000000000000004"
      ]
     },
     "execution_count": 8,
     "metadata": {},
     "output_type": "execute_result"
    }
   ],
   "source": [
    "0.1 + 0.2"
   ]
  },
  {
   "cell_type": "code",
   "execution_count": 10,
   "id": "725a0001",
   "metadata": {},
   "outputs": [
    {
     "data": {
      "text/plain": [
       "0.09999999999999998"
      ]
     },
     "execution_count": 10,
     "metadata": {},
     "output_type": "execute_result"
    }
   ],
   "source": [
    "0.3 - 0.2"
   ]
  },
  {
   "cell_type": "code",
   "execution_count": 12,
   "id": "370d46d0",
   "metadata": {},
   "outputs": [
    {
     "data": {
      "text/plain": [
       "True"
      ]
     },
     "execution_count": 12,
     "metadata": {},
     "output_type": "execute_result"
    }
   ],
   "source": [
    "0.3 - 0.2 == 0.09999999999999998"
   ]
  },
  {
   "cell_type": "code",
   "execution_count": 13,
   "id": "add9be23",
   "metadata": {},
   "outputs": [
    {
     "data": {
      "text/plain": [
       "True"
      ]
     },
     "execution_count": 13,
     "metadata": {},
     "output_type": "execute_result"
    }
   ],
   "source": [
    "0.1 + 0.2 == 0.30000000000000004"
   ]
  },
  {
   "cell_type": "code",
   "execution_count": 14,
   "id": "fb910237",
   "metadata": {},
   "outputs": [
    {
     "ename": "SyntaxError",
     "evalue": "cannot assign to operator (1377189166.py, line 1)",
     "output_type": "error",
     "traceback": [
      "\u001b[0;36m  File \u001b[0;32m\"/var/folders/5k/zptdym41293159jft7y2b6cm0000gp/T/ipykernel_87510/1377189166.py\"\u001b[0;36m, line \u001b[0;32m1\u001b[0m\n\u001b[0;31m    0.1 + 0.2 = 0.30000000000000004\u001b[0m\n\u001b[0m    ^\u001b[0m\n\u001b[0;31mSyntaxError\u001b[0m\u001b[0;31m:\u001b[0m cannot assign to operator\n"
     ]
    }
   ],
   "source": [
    "0.1 + 0.2 = 0.30000000000000004"
   ]
  },
  {
   "cell_type": "code",
   "execution_count": 20,
   "id": "91e38877",
   "metadata": {},
   "outputs": [
    {
     "data": {
      "text/plain": [
       "True"
      ]
     },
     "execution_count": 20,
     "metadata": {},
     "output_type": "execute_result"
    }
   ],
   "source": [
    "'HELLO' == 'hello'.upper()"
   ]
  },
  {
   "cell_type": "code",
   "execution_count": 19,
   "id": "7d256f16",
   "metadata": {},
   "outputs": [
    {
     "data": {
      "text/plain": [
       "'Hello'"
      ]
     },
     "execution_count": 19,
     "metadata": {},
     "output_type": "execute_result"
    }
   ],
   "source": [
    "'hello'.capitalize()"
   ]
  },
  {
   "cell_type": "code",
   "execution_count": 22,
   "id": "1af41f18",
   "metadata": {},
   "outputs": [],
   "source": [
    "import math"
   ]
  },
  {
   "cell_type": "code",
   "execution_count": 35,
   "id": "112eab52",
   "metadata": {},
   "outputs": [
    {
     "data": {
      "text/plain": [
       "[<matplotlib.lines.Line2D at 0x7f8908df8bb0>]"
      ]
     },
     "execution_count": 35,
     "metadata": {},
     "output_type": "execute_result"
    },
    {
     "data": {
      "image/png": "[encoded data removed]",
      "text/plain": [
       "<Figure size 432x288 with 2 Axes>"
      ]
     },
     "metadata": {
      "needs_background": "light"
     },
     "output_type": "display_data"
    }
   ],
   "source": [
    "fig = plt.figure()\n",
    "\n",
    "x = np.arange(0, math.pi*2, 0.025)\n",
    "y1 = np.sin(x)\n",
    "y2 = np.cos(x)\n",
    "\n",
    "axes = fig.add_axes([0, 0, 1, 1])\n",
    "axes1 = fig.add_axes([0, 1, 1, 1])\n",
    "axes.plot(x, y1)\n",
    "axes1.plot(x, y2)"
   ]
  },
  {
   "cell_type": "code",
   "execution_count": 37,
   "id": "20003766",
   "metadata": {},
   "outputs": [],
   "source": [
    "import seaborn as sns\n",
    "\n",
    "df = sns.load_dataset('tips')\n",
    "df.to_clipboard()"
   ]
  },
  {
   "cell_type": "code",
   "execution_count": 3,
   "id": "3e3d9e5d",
   "metadata": {},
   "outputs": [
    {
     "data": {
      "text/plain": [
       "<function RandomState.choice>"
      ]
     },
     "execution_count": 3,
     "metadata": {},
     "output_type": "execute_result"
    }
   ],
   "source": [
    "np.random.choice"
   ]
  }
 ],
 "metadata": {
  "kernelspec": {
   "display_name": "Python 3 (ipykernel)",
   "language": "python",
   "name": "python3"
  },
  "language_info": {
   "codemirror_mode": {
    "name": "ipython",
    "version": 3
   },
   "file_extension": ".py",
   "mimetype": "text/x-python",
   "name": "python",
   "nbconvert_exporter": "python",
   "pygments_lexer": "ipython3",
   "version": "3.9.7"
  }
 },
 "nbformat": 4,
 "nbformat_minor": 5
}
