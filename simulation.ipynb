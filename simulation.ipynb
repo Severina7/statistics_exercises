{
 "cells": [
  {
   "cell_type": "markdown",
   "id": "1874f255",
   "metadata": {},
   "source": [
    "## Simulation exercises"
   ]
  },
  {
   "cell_type": "code",
   "execution_count": 1,
   "id": "477f2b11",
   "metadata": {},
   "outputs": [],
   "source": [
    "import matplotlib.pyplot as plt\n",
    "import numpy as np\n",
    "import pandas as pd\n",
    "np.random.seed(50)"
   ]
  },
  {
   "cell_type": "markdown",
   "id": "f1cd4b14",
   "metadata": {},
   "source": [
    "### 1. How likely is it that you roll doubles when rolling two dice?"
   ]
  },
  {
   "cell_type": "code",
   "execution_count": 6,
   "id": "50ea58b7",
   "metadata": {},
   "outputs": [
    {
     "data": {
      "text/plain": [
       "array([[1, 3],\n",
       "       [4, 1],\n",
       "       [6, 1],\n",
       "       [2, 2],\n",
       "       [4, 1]])"
      ]
     },
     "execution_count": 6,
     "metadata": {},
     "output_type": "execute_result"
    }
   ],
   "source": [
    "n_trials = 10**5\n",
    "n_rolls = 2\n",
    "\n",
    "rolls = np.random.choice([1, 2, 3, 4, 5, 6], n_trials * n_rolls).reshape(n_trials, n_rolls)\n",
    "rolls[0:5]"
   ]
  },
  {
   "cell_type": "code",
   "execution_count": 7,
   "id": "8bd12960",
   "metadata": {},
   "outputs": [
    {
     "data": {
      "text/plain": [
       "0.16756"
      ]
     },
     "execution_count": 7,
     "metadata": {},
     "output_type": "execute_result"
    }
   ],
   "source": [
    "(pd.DataFrame(rolls)[0] == pd.DataFrame(rolls)[1]).mean()"
   ]
  },
  {
   "cell_type": "markdown",
   "id": "8c8cc949",
   "metadata": {},
   "source": [
    "### 2. If you flip 8 coins, what is the probability of getting exactly 3 heads? What is the probability of getting more than 3 heads?"
   ]
  },
  {
   "cell_type": "code",
   "execution_count": 38,
   "id": "172e6251",
   "metadata": {
    "scrolled": true
   },
   "outputs": [],
   "source": [
    "n_flips = columns = 8\n",
    "n_trials = rows = 10**5\n",
    "all_flips = np.random.choice(['Heads', 'Tails'], size = (10**5, 8))\n",
    "all_flips = pd.DataFrame(all_flips)"
   ]
  },
  {
   "cell_type": "code",
   "execution_count": 49,
   "id": "715a712f",
   "metadata": {},
   "outputs": [
    {
     "data": {
      "text/html": [
       "<div>\n",
       "<style scoped>\n",
       "    .dataframe tbody tr th:only-of-type {\n",
       "        vertical-align: middle;\n",
       "    }\n",
       "\n",
       "    .dataframe tbody tr th {\n",
       "        vertical-align: top;\n",
       "    }\n",
       "\n",
       "    .dataframe thead th {\n",
       "        text-align: right;\n",
       "    }\n",
       "</style>\n",
       "<table border=\"1\" class=\"dataframe\">\n",
       "  <thead>\n",
       "    <tr style=\"text-align: right;\">\n",
       "      <th></th>\n",
       "      <th>0</th>\n",
       "      <th>1</th>\n",
       "      <th>2</th>\n",
       "      <th>3</th>\n",
       "      <th>4</th>\n",
       "      <th>5</th>\n",
       "      <th>6</th>\n",
       "      <th>7</th>\n",
       "      <th>heads_count</th>\n",
       "    </tr>\n",
       "  </thead>\n",
       "  <tbody>\n",
       "    <tr>\n",
       "      <th>0</th>\n",
       "      <td>Heads</td>\n",
       "      <td>Heads</td>\n",
       "      <td>Tails</td>\n",
       "      <td>Heads</td>\n",
       "      <td>Heads</td>\n",
       "      <td>Heads</td>\n",
       "      <td>Heads</td>\n",
       "      <td>Heads</td>\n",
       "      <td>7</td>\n",
       "    </tr>\n",
       "    <tr>\n",
       "      <th>1</th>\n",
       "      <td>Tails</td>\n",
       "      <td>Heads</td>\n",
       "      <td>Heads</td>\n",
       "      <td>Heads</td>\n",
       "      <td>Tails</td>\n",
       "      <td>Heads</td>\n",
       "      <td>Tails</td>\n",
       "      <td>Tails</td>\n",
       "      <td>4</td>\n",
       "    </tr>\n",
       "    <tr>\n",
       "      <th>2</th>\n",
       "      <td>Tails</td>\n",
       "      <td>Heads</td>\n",
       "      <td>Heads</td>\n",
       "      <td>Tails</td>\n",
       "      <td>Heads</td>\n",
       "      <td>Tails</td>\n",
       "      <td>Tails</td>\n",
       "      <td>Heads</td>\n",
       "      <td>4</td>\n",
       "    </tr>\n",
       "    <tr>\n",
       "      <th>3</th>\n",
       "      <td>Tails</td>\n",
       "      <td>Tails</td>\n",
       "      <td>Heads</td>\n",
       "      <td>Heads</td>\n",
       "      <td>Heads</td>\n",
       "      <td>Heads</td>\n",
       "      <td>Tails</td>\n",
       "      <td>Tails</td>\n",
       "      <td>4</td>\n",
       "    </tr>\n",
       "    <tr>\n",
       "      <th>4</th>\n",
       "      <td>Tails</td>\n",
       "      <td>Tails</td>\n",
       "      <td>Tails</td>\n",
       "      <td>Tails</td>\n",
       "      <td>Heads</td>\n",
       "      <td>Tails</td>\n",
       "      <td>Tails</td>\n",
       "      <td>Tails</td>\n",
       "      <td>1</td>\n",
       "    </tr>\n",
       "  </tbody>\n",
       "</table>\n",
       "</div>"
      ],
      "text/plain": [
       "       0      1      2      3      4      5      6      7  heads_count\n",
       "0  Heads  Heads  Tails  Heads  Heads  Heads  Heads  Heads            7\n",
       "1  Tails  Heads  Heads  Heads  Tails  Heads  Tails  Tails            4\n",
       "2  Tails  Heads  Heads  Tails  Heads  Tails  Tails  Heads            4\n",
       "3  Tails  Tails  Heads  Heads  Heads  Heads  Tails  Tails            4\n",
       "4  Tails  Tails  Tails  Tails  Heads  Tails  Tails  Tails            1"
      ]
     },
     "execution_count": 49,
     "metadata": {},
     "output_type": "execute_result"
    }
   ],
   "source": [
    "all_flips[\"heads_count\"] = (all_flips == \"Heads\").sum(axis=1)\n",
    "all_flips.head()"
   ]
  },
  {
   "cell_type": "code",
   "execution_count": 50,
   "id": "02427538",
   "metadata": {
    "scrolled": true
   },
   "outputs": [
    {
     "data": {
      "text/plain": [
       "0.22054"
      ]
     },
     "execution_count": 50,
     "metadata": {},
     "output_type": "execute_result"
    }
   ],
   "source": [
    "# The probability of getting exactly 3 heads is\n",
    "(all_flips.heads_count == 3).mean()"
   ]
  },
  {
   "cell_type": "code",
   "execution_count": 51,
   "id": "6ffd6b3e",
   "metadata": {},
   "outputs": [
    {
     "data": {
      "text/plain": [
       "0.63452"
      ]
     },
     "execution_count": 51,
     "metadata": {},
     "output_type": "execute_result"
    }
   ],
   "source": [
    "# The probability of getting more than 3 heads is\n",
    "(all_flips.heads_count > 3).mean()"
   ]
  },
  {
   "cell_type": "markdown",
   "id": "60621f31",
   "metadata": {},
   "source": [
    "#### 3. There are approximitely 3 web development cohorts for every 1 data science cohort at Codeup. Assuming that Codeup randomly selects an alumni to put on a billboard, what are the odds that the two billboards I drive past both have data science students on them?"
   ]
  },
  {
   "cell_type": "markdown",
   "id": "c4aeb95e",
   "metadata": {},
   "source": [
    "### Example with one pick"
   ]
  },
  {
   "cell_type": "code",
   "execution_count": 62,
   "id": "eece17f3",
   "metadata": {},
   "outputs": [],
   "source": [
    "n_picks = columns = 2\n",
    "n_trials = rows = 1"
   ]
  },
  {
   "cell_type": "code",
   "execution_count": 64,
   "id": "0ad64e27",
   "metadata": {
    "scrolled": true
   },
   "outputs": [
    {
     "data": {
      "text/html": [
       "<div>\n",
       "<style scoped>\n",
       "    .dataframe tbody tr th:only-of-type {\n",
       "        vertical-align: middle;\n",
       "    }\n",
       "\n",
       "    .dataframe tbody tr th {\n",
       "        vertical-align: top;\n",
       "    }\n",
       "\n",
       "    .dataframe thead th {\n",
       "        text-align: right;\n",
       "    }\n",
       "</style>\n",
       "<table border=\"1\" class=\"dataframe\">\n",
       "  <thead>\n",
       "    <tr style=\"text-align: right;\">\n",
       "      <th></th>\n",
       "      <th>0</th>\n",
       "      <th>1</th>\n",
       "    </tr>\n",
       "  </thead>\n",
       "  <tbody>\n",
       "    <tr>\n",
       "      <th>0</th>\n",
       "      <td>WD</td>\n",
       "      <td>WD</td>\n",
       "    </tr>\n",
       "  </tbody>\n",
       "</table>\n",
       "</div>"
      ],
      "text/plain": [
       "    0   1\n",
       "0  WD  WD"
      ]
     },
     "execution_count": 64,
     "metadata": {},
     "output_type": "execute_result"
    }
   ],
   "source": [
    "picks = np.random.choice([\"WD\", \"DS\"], p=[.75, .25], size=(n_trials, n_picks))\n",
    "picks = pd.DataFrame(picks)\n",
    "picks"
   ]
  },
  {
   "cell_type": "code",
   "execution_count": 69,
   "id": "73f1fa04",
   "metadata": {},
   "outputs": [
    {
     "data": {
      "text/plain": [
       "0.0624879"
      ]
     },
     "execution_count": 69,
     "metadata": {},
     "output_type": "execute_result"
    }
   ],
   "source": [
    "picks[\"DS_picks\"] = (picks == \"DS\").sum(axis=1)\n",
    "(picks.DS_picks == 2).mean()"
   ]
  },
  {
   "cell_type": "markdown",
   "id": "db7dde2f",
   "metadata": {},
   "source": [
    "### Example with 10,000,000 picks"
   ]
  },
  {
   "cell_type": "code",
   "execution_count": 2,
   "id": "a3001f34",
   "metadata": {},
   "outputs": [],
   "source": [
    "n_picks = columns = 2\n",
    "n_trials = rows = 10**7"
   ]
  },
  {
   "cell_type": "code",
   "execution_count": 3,
   "id": "e9da06b2",
   "metadata": {},
   "outputs": [
    {
     "data": {
      "text/html": [
       "<div>\n",
       "<style scoped>\n",
       "    .dataframe tbody tr th:only-of-type {\n",
       "        vertical-align: middle;\n",
       "    }\n",
       "\n",
       "    .dataframe tbody tr th {\n",
       "        vertical-align: top;\n",
       "    }\n",
       "\n",
       "    .dataframe thead th {\n",
       "        text-align: right;\n",
       "    }\n",
       "</style>\n",
       "<table border=\"1\" class=\"dataframe\">\n",
       "  <thead>\n",
       "    <tr style=\"text-align: right;\">\n",
       "      <th></th>\n",
       "      <th>0</th>\n",
       "      <th>1</th>\n",
       "    </tr>\n",
       "  </thead>\n",
       "  <tbody>\n",
       "    <tr>\n",
       "      <th>0</th>\n",
       "      <td>WD</td>\n",
       "      <td>WD</td>\n",
       "    </tr>\n",
       "    <tr>\n",
       "      <th>1</th>\n",
       "      <td>WD</td>\n",
       "      <td>WD</td>\n",
       "    </tr>\n",
       "    <tr>\n",
       "      <th>2</th>\n",
       "      <td>WD</td>\n",
       "      <td>DS</td>\n",
       "    </tr>\n",
       "    <tr>\n",
       "      <th>3</th>\n",
       "      <td>WD</td>\n",
       "      <td>DS</td>\n",
       "    </tr>\n",
       "    <tr>\n",
       "      <th>4</th>\n",
       "      <td>DS</td>\n",
       "      <td>WD</td>\n",
       "    </tr>\n",
       "  </tbody>\n",
       "</table>\n",
       "</div>"
      ],
      "text/plain": [
       "    0   1\n",
       "0  WD  WD\n",
       "1  WD  WD\n",
       "2  WD  DS\n",
       "3  WD  DS\n",
       "4  DS  WD"
      ]
     },
     "execution_count": 3,
     "metadata": {},
     "output_type": "execute_result"
    }
   ],
   "source": [
    "picks = np.random.choice([\"WD\", \"DS\"], p=[.75, .25], size=(n_trials, n_picks))\n",
    "picks = pd.DataFrame(picks)\n",
    "picks.head()"
   ]
  },
  {
   "cell_type": "code",
   "execution_count": 4,
   "id": "dd6bdbfa",
   "metadata": {},
   "outputs": [
    {
     "data": {
      "text/plain": [
       "0.062521"
      ]
     },
     "execution_count": 4,
     "metadata": {},
     "output_type": "execute_result"
    }
   ],
   "source": [
    "picks[\"DS_picks\"] = (picks == \"DS\").sum(axis=1)\n",
    "(picks.DS_picks == 2).mean()\n",
    "# The probability of seeing a DS student on both billboards is super low\n",
    "# no matter the number of picks (rows) 1 or 10 millions"
   ]
  },
  {
   "cell_type": "markdown",
   "id": "06afc2e6",
   "metadata": {},
   "source": [
    "#### 4. Codeup students buy, on average, 3 poptart packages with a standard deviation of 1.5 a day from the snack vending machine. If on monday the machine is restocked with 17 poptart packages, how likely is it that I will be able to buy some poptarts on Friday afternoon? (Remember, if you have mean and standard deviation, use the np.random.normal)"
   ]
  },
  {
   "cell_type": "code",
   "execution_count": 37,
   "id": "db1387d6",
   "metadata": {
    "scrolled": true
   },
   "outputs": [
    {
     "data": {
      "text/html": [
       "<div>\n",
       "<style scoped>\n",
       "    .dataframe tbody tr th:only-of-type {\n",
       "        vertical-align: middle;\n",
       "    }\n",
       "\n",
       "    .dataframe tbody tr th {\n",
       "        vertical-align: top;\n",
       "    }\n",
       "\n",
       "    .dataframe thead th {\n",
       "        text-align: right;\n",
       "    }\n",
       "</style>\n",
       "<table border=\"1\" class=\"dataframe\">\n",
       "  <thead>\n",
       "    <tr style=\"text-align: right;\">\n",
       "      <th></th>\n",
       "      <th>Mon</th>\n",
       "      <th>Tues</th>\n",
       "      <th>Wed</th>\n",
       "      <th>Thur</th>\n",
       "      <th>Fri</th>\n",
       "    </tr>\n",
       "  </thead>\n",
       "  <tbody>\n",
       "    <tr>\n",
       "      <th>0</th>\n",
       "      <td>4.064890</td>\n",
       "      <td>1.185780</td>\n",
       "      <td>2.084999</td>\n",
       "      <td>4.243944</td>\n",
       "      <td>4.030554</td>\n",
       "    </tr>\n",
       "    <tr>\n",
       "      <th>1</th>\n",
       "      <td>1.721323</td>\n",
       "      <td>1.749108</td>\n",
       "      <td>2.232749</td>\n",
       "      <td>1.578581</td>\n",
       "      <td>4.308003</td>\n",
       "    </tr>\n",
       "    <tr>\n",
       "      <th>2</th>\n",
       "      <td>2.611411</td>\n",
       "      <td>3.228945</td>\n",
       "      <td>2.942351</td>\n",
       "      <td>6.566066</td>\n",
       "      <td>2.739899</td>\n",
       "    </tr>\n",
       "    <tr>\n",
       "      <th>3</th>\n",
       "      <td>4.319741</td>\n",
       "      <td>2.353475</td>\n",
       "      <td>3.461649</td>\n",
       "      <td>3.581399</td>\n",
       "      <td>2.380937</td>\n",
       "    </tr>\n",
       "    <tr>\n",
       "      <th>4</th>\n",
       "      <td>1.236008</td>\n",
       "      <td>3.526783</td>\n",
       "      <td>4.324256</td>\n",
       "      <td>6.847690</td>\n",
       "      <td>2.720869</td>\n",
       "    </tr>\n",
       "  </tbody>\n",
       "</table>\n",
       "</div>"
      ],
      "text/plain": [
       "        Mon      Tues       Wed      Thur       Fri\n",
       "0  4.064890  1.185780  2.084999  4.243944  4.030554\n",
       "1  1.721323  1.749108  2.232749  1.578581  4.308003\n",
       "2  2.611411  3.228945  2.942351  6.566066  2.739899\n",
       "3  4.319741  2.353475  3.461649  3.581399  2.380937\n",
       "4  1.236008  3.526783  4.324256  6.847690  2.720869"
      ]
     },
     "execution_count": 37,
     "metadata": {},
     "output_type": "execute_result"
    }
   ],
   "source": [
    "# Likelyhood of getting poptarts Friday afternoon\n",
    "n_rows = 10**5\n",
    "n_cols = 5\n",
    "mean = 3\n",
    "stdev = 1.5\n",
    "num_pt = np.random.normal(mean, stdev, size=(n_rows, n_cols))\n",
    "num_pt = pd.DataFrame(num_pt, columns=[\"Mon\", \"Tues\", \"Wed\", \"Thur\", \"Fri\"])\n",
    "num_pt.head()"
   ]
  },
  {
   "cell_type": "code",
   "execution_count": 38,
   "id": "c8a395d7",
   "metadata": {},
   "outputs": [
    {
     "data": {
      "text/html": [
       "<div>\n",
       "<style scoped>\n",
       "    .dataframe tbody tr th:only-of-type {\n",
       "        vertical-align: middle;\n",
       "    }\n",
       "\n",
       "    .dataframe tbody tr th {\n",
       "        vertical-align: top;\n",
       "    }\n",
       "\n",
       "    .dataframe thead th {\n",
       "        text-align: right;\n",
       "    }\n",
       "</style>\n",
       "<table border=\"1\" class=\"dataframe\">\n",
       "  <thead>\n",
       "    <tr style=\"text-align: right;\">\n",
       "      <th></th>\n",
       "      <th>Mon</th>\n",
       "      <th>Tues</th>\n",
       "      <th>Wed</th>\n",
       "      <th>Thur</th>\n",
       "      <th>Fri</th>\n",
       "    </tr>\n",
       "  </thead>\n",
       "  <tbody>\n",
       "    <tr>\n",
       "      <th>0</th>\n",
       "      <td>4.0</td>\n",
       "      <td>1.0</td>\n",
       "      <td>2.0</td>\n",
       "      <td>4.0</td>\n",
       "      <td>4.0</td>\n",
       "    </tr>\n",
       "    <tr>\n",
       "      <th>1</th>\n",
       "      <td>2.0</td>\n",
       "      <td>2.0</td>\n",
       "      <td>2.0</td>\n",
       "      <td>2.0</td>\n",
       "      <td>4.0</td>\n",
       "    </tr>\n",
       "    <tr>\n",
       "      <th>2</th>\n",
       "      <td>3.0</td>\n",
       "      <td>3.0</td>\n",
       "      <td>3.0</td>\n",
       "      <td>7.0</td>\n",
       "      <td>3.0</td>\n",
       "    </tr>\n",
       "    <tr>\n",
       "      <th>3</th>\n",
       "      <td>4.0</td>\n",
       "      <td>2.0</td>\n",
       "      <td>3.0</td>\n",
       "      <td>4.0</td>\n",
       "      <td>2.0</td>\n",
       "    </tr>\n",
       "    <tr>\n",
       "      <th>4</th>\n",
       "      <td>1.0</td>\n",
       "      <td>4.0</td>\n",
       "      <td>4.0</td>\n",
       "      <td>7.0</td>\n",
       "      <td>3.0</td>\n",
       "    </tr>\n",
       "  </tbody>\n",
       "</table>\n",
       "</div>"
      ],
      "text/plain": [
       "   Mon  Tues  Wed  Thur  Fri\n",
       "0  4.0   1.0  2.0   4.0  4.0\n",
       "1  2.0   2.0  2.0   2.0  4.0\n",
       "2  3.0   3.0  3.0   7.0  3.0\n",
       "3  4.0   2.0  3.0   4.0  2.0\n",
       "4  1.0   4.0  4.0   7.0  3.0"
      ]
     },
     "execution_count": 38,
     "metadata": {},
     "output_type": "execute_result"
    }
   ],
   "source": [
    "num_pt = num_pt.round().head()\n",
    "num_pt"
   ]
  },
  {
   "cell_type": "code",
   "execution_count": 43,
   "id": "5e4f0e59",
   "metadata": {},
   "outputs": [
    {
     "data": {
      "text/plain": [
       "0.0"
      ]
     },
     "execution_count": 43,
     "metadata": {},
     "output_type": "execute_result"
    }
   ],
   "source": [
    "# The likelihood of getting poptarts Friday afternoon\n",
    "num_pt['week_pt'] = num_pt.sum(axis='columns')\n",
    "(num_pt['week_pt'] < 17).mean()\n",
    "# Sad"
   ]
  },
  {
   "cell_type": "markdown",
   "id": "94e16942",
   "metadata": {},
   "source": [
    "#### 5. Compare Heights\n",
    "\n",
    "- Men have an average height of 178 cm and standard deviation of 8cm.\n",
    "- Women have a mean of 170, sd = 6cm. Since you have means and standard deviations, you can use np.random.normal to generate observations.\n",
    "- If a man and woman are chosen at random, what is the likelihood the woman is taller than the man?"
   ]
  },
  {
   "cell_type": "code",
   "execution_count": 46,
   "id": "62373c39",
   "metadata": {},
   "outputs": [],
   "source": [
    "m_height = np.random.normal(178, 8, size = 10**5)\n",
    "f_height = np.random.normal(170, 6, size = 10**5)"
   ]
  },
  {
   "cell_type": "code",
   "execution_count": 47,
   "id": "b0262a64",
   "metadata": {},
   "outputs": [
    {
     "data": {
      "text/plain": [
       "0.21401"
      ]
     },
     "execution_count": 47,
     "metadata": {},
     "output_type": "execute_result"
    }
   ],
   "source": [
    "# The likelihood that the picked woman is taller than the man\n",
    "(f_height > m_height).mean()"
   ]
  },
  {
   "cell_type": "markdown",
   "id": "c2b5212b",
   "metadata": {},
   "source": [
    "#### 6. When installing anaconda on a student's computer, there's a 1 in 250 chance that the download is corrupted and the installation fails.\n",
    "- What are the odds that after having 50 students download anaconda, no one has an installation issue? 100 students?\n",
    "\n",
    "- What is the probability that we observe an installation issue within the first 150 students that download anaconda?\n",
    "\n",
    "- How likely is it that 450 students all download anaconda without an issue?"
   ]
  },
  {
   "cell_type": "code",
   "execution_count": 71,
   "id": "6322ba73",
   "metadata": {},
   "outputs": [
    {
     "data": {
      "text/plain": [
       "array([[1, 1, 1, ..., 1, 1, 1],\n",
       "       [1, 1, 1, ..., 1, 1, 1],\n",
       "       [1, 1, 1, ..., 1, 1, 1],\n",
       "       ...,\n",
       "       [1, 1, 1, ..., 1, 1, 1],\n",
       "       [1, 1, 1, ..., 1, 1, 1],\n",
       "       [1, 1, 1, ..., 1, 1, 1]])"
      ]
     },
     "execution_count": 71,
     "metadata": {},
     "output_type": "execute_result"
    }
   ],
   "source": [
    "n_downloads = columns = 50\n",
    "n_trials = 10**5\n",
    "fail_p = fail_probability = 1/250\n",
    "s_prob = success_probability = 249/250\n",
    "\n",
    "downloads = np.random.choice([0, 1], p = [fail_p, s_prob], size = (n_trials, n_downloads))\n",
    "downloads"
   ]
  },
  {
   "cell_type": "code",
   "execution_count": 72,
   "id": "f50cb204",
   "metadata": {},
   "outputs": [
    {
     "data": {
      "text/plain": [
       "0.81933"
      ]
     },
     "execution_count": 72,
     "metadata": {},
     "output_type": "execute_result"
    }
   ],
   "source": [
    "# The probability that there is not an issue in 50 downloads\n",
    "(downloads.sum(axis=1) == 50).mean()"
   ]
  },
  {
   "cell_type": "code",
   "execution_count": 75,
   "id": "683caccd",
   "metadata": {
    "scrolled": true
   },
   "outputs": [
    {
     "data": {
      "text/plain": [
       "array([[1, 1, 1, ..., 1, 1, 1],\n",
       "       [1, 1, 1, ..., 1, 1, 1],\n",
       "       [1, 1, 1, ..., 1, 1, 1],\n",
       "       ...,\n",
       "       [1, 1, 1, ..., 1, 1, 1],\n",
       "       [1, 1, 1, ..., 1, 1, 1],\n",
       "       [1, 1, 1, ..., 1, 1, 1]])"
      ]
     },
     "execution_count": 75,
     "metadata": {},
     "output_type": "execute_result"
    }
   ],
   "source": [
    "n_downloads = columns = 100\n",
    "n_trials = rows = 10**5\n",
    "fail_p = fail_probability = 1/250\n",
    "s_prob = success_probability = 249/250\n",
    "\n",
    "downloads = np.random.choice([0, 1], p = [fail_p, s_prob], size = (n_trials, n_downloads))\n",
    "downloads"
   ]
  },
  {
   "cell_type": "code",
   "execution_count": 76,
   "id": "1b9e79a8",
   "metadata": {},
   "outputs": [
    {
     "data": {
      "text/plain": [
       "0.67068"
      ]
     },
     "execution_count": 76,
     "metadata": {},
     "output_type": "execute_result"
    }
   ],
   "source": [
    "# The probability that there is not an issue in 100 downloads\n",
    "(downloads.sum(axis=1) == 100).mean()"
   ]
  },
  {
   "cell_type": "markdown",
   "id": "801a76f2",
   "metadata": {},
   "source": [
    "#### 7. There's a 70% chance on any given day that there will be at least one food truck at Travis Park. However, you haven't seen a food truck there in 3 days.\n",
    "- How unlikely is this?\n",
    "- How likely is it that a food truck will show up sometime this week?"
   ]
  },
  {
   "cell_type": "code",
   "execution_count": 88,
   "id": "9e64a17a",
   "metadata": {
    "scrolled": true
   },
   "outputs": [
    {
     "data": {
      "text/html": [
       "<div>\n",
       "<style scoped>\n",
       "    .dataframe tbody tr th:only-of-type {\n",
       "        vertical-align: middle;\n",
       "    }\n",
       "\n",
       "    .dataframe tbody tr th {\n",
       "        vertical-align: top;\n",
       "    }\n",
       "\n",
       "    .dataframe thead th {\n",
       "        text-align: right;\n",
       "    }\n",
       "</style>\n",
       "<table border=\"1\" class=\"dataframe\">\n",
       "  <thead>\n",
       "    <tr style=\"text-align: right;\">\n",
       "      <th></th>\n",
       "      <th>0</th>\n",
       "      <th>1</th>\n",
       "      <th>2</th>\n",
       "      <th>3</th>\n",
       "      <th>4</th>\n",
       "    </tr>\n",
       "  </thead>\n",
       "  <tbody>\n",
       "    <tr>\n",
       "      <th>0</th>\n",
       "      <td>1</td>\n",
       "      <td>1</td>\n",
       "      <td>1</td>\n",
       "      <td>1</td>\n",
       "      <td>1</td>\n",
       "    </tr>\n",
       "    <tr>\n",
       "      <th>1</th>\n",
       "      <td>0</td>\n",
       "      <td>1</td>\n",
       "      <td>1</td>\n",
       "      <td>1</td>\n",
       "      <td>1</td>\n",
       "    </tr>\n",
       "    <tr>\n",
       "      <th>2</th>\n",
       "      <td>0</td>\n",
       "      <td>1</td>\n",
       "      <td>1</td>\n",
       "      <td>1</td>\n",
       "      <td>0</td>\n",
       "    </tr>\n",
       "    <tr>\n",
       "      <th>3</th>\n",
       "      <td>1</td>\n",
       "      <td>1</td>\n",
       "      <td>0</td>\n",
       "      <td>1</td>\n",
       "      <td>1</td>\n",
       "    </tr>\n",
       "    <tr>\n",
       "      <th>4</th>\n",
       "      <td>1</td>\n",
       "      <td>0</td>\n",
       "      <td>0</td>\n",
       "      <td>1</td>\n",
       "      <td>1</td>\n",
       "    </tr>\n",
       "  </tbody>\n",
       "</table>\n",
       "</div>"
      ],
      "text/plain": [
       "   0  1  2  3  4\n",
       "0  1  1  1  1  1\n",
       "1  0  1  1  1  1\n",
       "2  0  1  1  1  0\n",
       "3  1  1  0  1  1\n",
       "4  1  0  0  1  1"
      ]
     },
     "execution_count": 88,
     "metadata": {},
     "output_type": "execute_result"
    }
   ],
   "source": [
    "n_trials = rows = 10**5\n",
    "n_obs = columns = 3 \n",
    "fail_p = fail_probability = 3/10\n",
    "s_prob = success_probability = 7/10\n",
    "\n",
    "truck_obs = np.random.choice([0, 1], p=[fail_p, s_prob], size=(n_rows, n_cols))\n",
    "truck_obs = pd.DataFrame(truck_obs)\n",
    "truck_obs.head()"
   ]
  },
  {
   "cell_type": "code",
   "execution_count": 90,
   "id": "d6313312",
   "metadata": {},
   "outputs": [
    {
     "data": {
      "text/plain": [
       "0.00241"
      ]
     },
     "execution_count": 90,
     "metadata": {},
     "output_type": "execute_result"
    }
   ],
   "source": [
    "# Probability of the trucks not being there\n",
    "(truck_obs.sum(axis=1) == 0).mean()\n",
    "# It is very unlikely that the trucks do not show up at Travis Park"
   ]
  },
  {
   "cell_type": "code",
   "execution_count": 91,
   "id": "d19703aa",
   "metadata": {
    "scrolled": true
   },
   "outputs": [
    {
     "data": {
      "text/html": [
       "<div>\n",
       "<style scoped>\n",
       "    .dataframe tbody tr th:only-of-type {\n",
       "        vertical-align: middle;\n",
       "    }\n",
       "\n",
       "    .dataframe tbody tr th {\n",
       "        vertical-align: top;\n",
       "    }\n",
       "\n",
       "    .dataframe thead th {\n",
       "        text-align: right;\n",
       "    }\n",
       "</style>\n",
       "<table border=\"1\" class=\"dataframe\">\n",
       "  <thead>\n",
       "    <tr style=\"text-align: right;\">\n",
       "      <th></th>\n",
       "      <th>0</th>\n",
       "      <th>1</th>\n",
       "      <th>2</th>\n",
       "      <th>3</th>\n",
       "      <th>4</th>\n",
       "    </tr>\n",
       "  </thead>\n",
       "  <tbody>\n",
       "    <tr>\n",
       "      <th>0</th>\n",
       "      <td>0</td>\n",
       "      <td>1</td>\n",
       "      <td>1</td>\n",
       "      <td>0</td>\n",
       "      <td>1</td>\n",
       "    </tr>\n",
       "    <tr>\n",
       "      <th>1</th>\n",
       "      <td>1</td>\n",
       "      <td>1</td>\n",
       "      <td>1</td>\n",
       "      <td>0</td>\n",
       "      <td>0</td>\n",
       "    </tr>\n",
       "    <tr>\n",
       "      <th>2</th>\n",
       "      <td>1</td>\n",
       "      <td>1</td>\n",
       "      <td>0</td>\n",
       "      <td>1</td>\n",
       "      <td>0</td>\n",
       "    </tr>\n",
       "    <tr>\n",
       "      <th>3</th>\n",
       "      <td>1</td>\n",
       "      <td>1</td>\n",
       "      <td>1</td>\n",
       "      <td>1</td>\n",
       "      <td>0</td>\n",
       "    </tr>\n",
       "    <tr>\n",
       "      <th>4</th>\n",
       "      <td>1</td>\n",
       "      <td>1</td>\n",
       "      <td>1</td>\n",
       "      <td>1</td>\n",
       "      <td>1</td>\n",
       "    </tr>\n",
       "  </tbody>\n",
       "</table>\n",
       "</div>"
      ],
      "text/plain": [
       "   0  1  2  3  4\n",
       "0  0  1  1  0  1\n",
       "1  1  1  1  0  0\n",
       "2  1  1  0  1  0\n",
       "3  1  1  1  1  0\n",
       "4  1  1  1  1  1"
      ]
     },
     "execution_count": 91,
     "metadata": {},
     "output_type": "execute_result"
    }
   ],
   "source": [
    "# Probability that the the trucks show up for the rest of the week (4 days left in the week)\n",
    "n_trials = rows = 10**5\n",
    "n_obs = columns = 4 \n",
    "fail_p = fail_probability = 3/10\n",
    "s_prob = success_probability = 7/10\n",
    "\n",
    "truck_obs = np.random.choice([0, 1], p=[fail_p, s_prob], size=(n_rows, n_cols))\n",
    "truck_obs = pd.DataFrame(truck_obs)\n",
    "truck_obs.head()"
   ]
  },
  {
   "cell_type": "code",
   "execution_count": 94,
   "id": "a0d72dd4",
   "metadata": {},
   "outputs": [
    {
     "data": {
      "text/plain": [
       "0.99763"
      ]
     },
     "execution_count": 94,
     "metadata": {},
     "output_type": "execute_result"
    }
   ],
   "source": [
    "(truck_obs.sum(axis=1) > 0).mean()\n",
    "# It is more likely that they come back the rest of the week"
   ]
  },
  {
   "cell_type": "markdown",
   "id": "ebe2d308",
   "metadata": {},
   "source": [
    "#### 8. If 23 people are in the same room, what are the odds that two of them share a birthday?\n",
    "- What if it's 20 people?\n",
    "- 40?"
   ]
  },
  {
   "cell_type": "code",
   "execution_count": 101,
   "id": "d577b976",
   "metadata": {},
   "outputs": [
    {
     "data": {
      "text/plain": [
       "0.50839"
      ]
     },
     "execution_count": 101,
     "metadata": {},
     "output_type": "execute_result"
    }
   ],
   "source": [
    "n_trials = rows = 10**5\n",
    "n_obs = columns = 23\n",
    "\n",
    "birthdays = np.random.choice(range(365), size=(n_trials, n_obs))\n",
    "birthdays = pd.DataFrame(birthdays)\n",
    "birthdays[\"b_unique\"] = birthdays.nunique(axis=1)\n",
    "\n",
    "(birthdays.b_unique != 23).mean()\n",
    "# The odds that 2 people share a birthday in a room containing 23 people"
   ]
  },
  {
   "cell_type": "code",
   "execution_count": 102,
   "id": "8f1c15ff",
   "metadata": {},
   "outputs": [
    {
     "data": {
      "text/plain": [
       "0.40984"
      ]
     },
     "execution_count": 102,
     "metadata": {},
     "output_type": "execute_result"
    }
   ],
   "source": [
    "# The odds that 2 people share a birthday in a room containing 20 people\n",
    "n_trials = rows = 10**5\n",
    "n_obs = columns = 20\n",
    "\n",
    "birthdays = np.random.choice(range(365), size=(n_trials, n_obs))\n",
    "birthdays = pd.DataFrame(birthdays)\n",
    "birthdays[\"b_unique\"] = birthdays.nunique(axis=1)\n",
    "\n",
    "(birthdays.b_unique != 20).mean()"
   ]
  },
  {
   "cell_type": "code",
   "execution_count": 103,
   "id": "1a5e34cf",
   "metadata": {},
   "outputs": [
    {
     "data": {
      "text/plain": [
       "1.0"
      ]
     },
     "execution_count": 103,
     "metadata": {},
     "output_type": "execute_result"
    }
   ],
   "source": [
    "# The odds that 2 people share a birthday in a room containing 40 people\n",
    "n_trials = rows = 10**5\n",
    "n_obs = columns = 20\n",
    "\n",
    "birthdays = np.random.choice(range(365), size=(n_trials, n_obs))\n",
    "birthdays = pd.DataFrame(birthdays)\n",
    "birthdays[\"b_unique\"] = birthdays.nunique(axis=1)\n",
    "\n",
    "(birthdays.b_unique != 40).mean()"
   ]
  },
  {
   "cell_type": "markdown",
   "id": "cc6a2a6c",
   "metadata": {},
   "source": [
    "## Bonus exercises\n",
    "\n",
    "Let's use what we've learned to play a mage duel!\n",
    "\n",
    "Imagine your wizard has 6d4 health points and you have spells that do 6d4 damage. \"6d4\" means rolling six 4-sided dice and summing the result.\n",
    "\n",
    "Your opposing mage has 4d6 health points and spells that do 4d6. \"4d6\" means rolling four six-sided dice and summing the result.\n",
    "\n",
    "### Exercises\n",
    "Simulate mage duels to answer who is the more powerful mage.\n",
    "\n",
    "- Before running simulations, do you have a hypothesis of which mage will win? Do you have a hunch? Write it down. This is your first exercise.\n",
    "- Simulate 10 mage duels. Is there a clear winner? Run that 10 duel simulation again. Was the answer similar?\n",
    "- Do the results change much at 100 duels?\n",
    "- Now, simulate 10,000 mage duels. Is there a clear winner?"
   ]
  },
  {
   "cell_type": "markdown",
   "id": "7af6f95a",
   "metadata": {},
   "source": [
    "#### a. I feel like the second mage has more potential to win but it also feel like they could be tied. But I don't feel like the first one has more chances to win"
   ]
  },
  {
   "cell_type": "markdown",
   "id": "dfadcaa1",
   "metadata": {},
   "source": [
    "#### b. Simulate 10 mage duels. Is there a clear winner? Run that 10 duel simulation again. Was the answer similar?"
   ]
  },
  {
   "cell_type": "code",
   "execution_count": 12,
   "id": "7416ea35",
   "metadata": {},
   "outputs": [
    {
     "data": {
      "text/plain": [
       "165"
      ]
     },
     "execution_count": 12,
     "metadata": {},
     "output_type": "execute_result"
    }
   ],
   "source": [
    "n_rolls = 6\n",
    "n_trials = 10\n",
    "rolls_mage1 = np.random.choice([1, 2, 3, 4], n_trials * n_rolls).reshape(n_trials, n_rolls)\n",
    "rolls_mage1.sum()"
   ]
  },
  {
   "cell_type": "code",
   "execution_count": 13,
   "id": "dbf69247",
   "metadata": {},
   "outputs": [
    {
     "data": {
      "text/plain": [
       "136"
      ]
     },
     "execution_count": 13,
     "metadata": {},
     "output_type": "execute_result"
    }
   ],
   "source": [
    "n_rolls = 4\n",
    "n_trials = 10\n",
    "rolls_mage2 = np.random.choice([1, 2, 3, 4, 5, 6], n_trials * n_rolls).reshape(n_trials, n_rolls)\n",
    "rolls_mage2.sum()"
   ]
  },
  {
   "cell_type": "markdown",
   "id": "40d633d2",
   "metadata": {},
   "source": [
    "- The first round of ten was won by the first mage 158 -150\n",
    "- the second round as well 165 - 130"
   ]
  },
  {
   "cell_type": "code",
   "execution_count": 16,
   "id": "6d62d9b3",
   "metadata": {},
   "outputs": [
    {
     "data": {
      "text/plain": [
       "149936"
      ]
     },
     "execution_count": 16,
     "metadata": {},
     "output_type": "execute_result"
    }
   ],
   "source": [
    "n_rolls = 6\n",
    "n_trials = 10**4\n",
    "rolls_mage1 = np.random.choice([1, 2, 3, 4], n_trials * n_rolls).reshape(n_trials, n_rolls)\n",
    "rolls_mage1.sum()"
   ]
  },
  {
   "cell_type": "code",
   "execution_count": 17,
   "id": "ba233a55",
   "metadata": {},
   "outputs": [
    {
     "data": {
      "text/plain": [
       "140595"
      ]
     },
     "execution_count": 17,
     "metadata": {},
     "output_type": "execute_result"
    }
   ],
   "source": [
    "n_rolls = 4\n",
    "n_trials = 10**4\n",
    "rolls_mage2 = np.random.choice([1, 2, 3, 4, 5, 6], n_trials * n_rolls).reshape(n_trials, n_rolls)\n",
    "rolls_mage2.sum()"
   ]
  },
  {
   "cell_type": "markdown",
   "id": "31bae09d",
   "metadata": {},
   "source": [
    "- The results don't change for 100 trials 1538 - 1457\n",
    "- For the last one, at 10,000 rounds the first mage still wins 149936 - 140595"
   ]
  }
 ],
 "metadata": {
  "kernelspec": {
   "display_name": "Python 3 (ipykernel)",
   "language": "python",
   "name": "python3"
  },
  "language_info": {
   "codemirror_mode": {
    "name": "ipython",
    "version": 3
   },
   "file_extension": ".py",
   "mimetype": "text/x-python",
   "name": "python",
   "nbconvert_exporter": "python",
   "pygments_lexer": "ipython3",
   "version": "3.9.7"
  }
 },
 "nbformat": 4,
 "nbformat_minor": 5
}
