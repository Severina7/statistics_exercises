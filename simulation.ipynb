{
 "cells": [
  {
   "cell_type": "markdown",
   "id": "af050baf",
   "metadata": {},
   "source": [
    "## Simulation exercises"
   ]
  },
  {
   "cell_type": "code",
   "execution_count": 2,
   "id": "54aa0940",
   "metadata": {},
   "outputs": [],
   "source": [
    "%matplotlib inline\n",
    "import numpy as np\n",
    "import pandas as pd\n",
    "\n",
    "np.random.seed(29)"
   ]
  },
  {
   "cell_type": "markdown",
   "id": "f778ab15",
   "metadata": {},
   "source": [
    "#### 1. How likely is it that you roll doubles when rolling two dice?"
   ]
  },
  {
   "cell_type": "code",
   "execution_count": 73,
   "id": "afe68a99",
   "metadata": {},
   "outputs": [
    {
     "data": {
      "text/plain": [
       "array([[2, 3],\n",
       "       [2, 4],\n",
       "       [6, 4],\n",
       "       ...,\n",
       "       [3, 1],\n",
       "       [3, 6],\n",
       "       [1, 2]])"
      ]
     },
     "execution_count": 73,
     "metadata": {},
     "output_type": "execute_result"
    }
   ],
   "source": [
    "n_trials = 10**5\n",
    "n_rolls = 2\n",
    "\n",
    "rolls = np.random.choice([1, 2, 3, 4, 5, 6], n_trials * n_rolls).reshape(n_trials, n_rolls)\n",
    "rolls"
   ]
  },
  {
   "cell_type": "code",
   "execution_count": 79,
   "id": "8fe8c71c",
   "metadata": {},
   "outputs": [
    {
     "data": {
      "text/plain": [
       "0.16706"
      ]
     },
     "execution_count": 79,
     "metadata": {},
     "output_type": "execute_result"
    }
   ],
   "source": [
    "(pd.DataFrame(rolls)[0] == pd.DataFrame(rolls)[1]).mean()"
   ]
  },
  {
   "cell_type": "markdown",
   "id": "533685f9",
   "metadata": {},
   "source": [
    "#### 2. If you flip 8 coins, what is the probability of getting exactly 3 heads? What is the probability of getting more than 3 heads?"
   ]
  },
  {
   "cell_type": "code",
   "execution_count": 66,
   "id": "c526372b",
   "metadata": {},
   "outputs": [],
   "source": [
    "n_flips = columns = 8\n",
    "n_trials = rows = 10**5\n",
    "p_flip = .5"
   ]
  },
  {
   "cell_type": "code",
   "execution_count": 67,
   "id": "efdc3310",
   "metadata": {},
   "outputs": [
    {
     "data": {
      "text/plain": [
       "array([[0.34350279, 0.46872199, 0.62307566, ..., 0.34552021, 0.85025438,\n",
       "        0.68426358],\n",
       "       [0.11116887, 0.26073575, 0.92681934, ..., 0.17709068, 0.79597504,\n",
       "        0.1781185 ],\n",
       "       [0.3096851 , 0.45641581, 0.1368052 , ..., 0.90814205, 0.36709877,\n",
       "        0.46369507],\n",
       "       ...,\n",
       "       [0.74326292, 0.38304466, 0.984331  , ..., 0.54102893, 0.26555776,\n",
       "        0.80292954],\n",
       "       [0.84927074, 0.5164997 , 0.22938739, ..., 0.36733016, 0.03632645,\n",
       "        0.61638297],\n",
       "       [0.13699901, 0.46277923, 0.57159378, ..., 0.58121855, 0.35342604,\n",
       "        0.10127986]])"
      ]
     },
     "execution_count": 67,
     "metadata": {},
     "output_type": "execute_result"
    }
   ],
   "source": [
    "data = np.random.random((rows, columns))\n",
    "data"
   ]
  },
  {
   "cell_type": "code",
   "execution_count": 68,
   "id": "97a12b86",
   "metadata": {},
   "outputs": [
    {
     "data": {
      "text/plain": [
       "array([[ True,  True, False, ...,  True, False, False],\n",
       "       [ True,  True, False, ...,  True, False,  True],\n",
       "       [ True,  True,  True, ..., False,  True,  True],\n",
       "       ...,\n",
       "       [False,  True, False, ..., False,  True, False],\n",
       "       [False, False,  True, ...,  True,  True, False],\n",
       "       [ True,  True, False, ..., False,  True,  True]])"
      ]
     },
     "execution_count": 68,
     "metadata": {},
     "output_type": "execute_result"
    }
   ],
   "source": [
    "good_flip = data < p_flip\n",
    "good_flip"
   ]
  },
  {
   "cell_type": "code",
   "execution_count": 71,
   "id": "aab22b66",
   "metadata": {},
   "outputs": [
    {
     "data": {
      "text/plain": [
       "array([4, 5, 5, ..., 2, 3, 5])"
      ]
     },
     "execution_count": 71,
     "metadata": {},
     "output_type": "execute_result"
    }
   ],
   "source": [
    "good_flip.sum(axis=1)"
   ]
  },
  {
   "cell_type": "code",
   "execution_count": 86,
   "id": "3457fed4",
   "metadata": {},
   "outputs": [
    {
     "data": {
      "text/plain": [
       "0.85462"
      ]
     },
     "execution_count": 86,
     "metadata": {},
     "output_type": "execute_result"
    }
   ],
   "source": [
    "(good_flip.sum(axis=1) >= 3).mean()"
   ]
  },
  {
   "cell_type": "markdown",
   "id": "c987fe09",
   "metadata": {},
   "source": [
    "#### 3. There are approximitely 3 web development cohorts for every 1 data science cohort at Codeup. Assuming that Codeup randomly selects an alumni to put on a billboard, what are the odds that the two billboards I drive past both have data science students on them?"
   ]
  },
  {
   "cell_type": "code",
   "execution_count": null,
   "id": "bada4794",
   "metadata": {},
   "outputs": [],
   "source": []
  },
  {
   "cell_type": "markdown",
   "id": "56604cd1",
   "metadata": {},
   "source": [
    "#### 4. Codeup students buy, on average, 3 poptart packages with a standard deviation of 1.5 a day from the snack vending machine. If on monday the machine is restocked with 17 poptart packages, how likely is it that I will be able to buy some poptarts on Friday afternoon? (Remember, if you have mean and standard deviation, use the np.random.normal)"
   ]
  }
 ],
 "metadata": {
  "kernelspec": {
   "display_name": "Python 3 (ipykernel)",
   "language": "python",
   "name": "python3"
  },
  "language_info": {
   "codemirror_mode": {
    "name": "ipython",
    "version": 3
   },
   "file_extension": ".py",
   "mimetype": "text/x-python",
   "name": "python",
   "nbconvert_exporter": "python",
   "pygments_lexer": "ipython3",
   "version": "3.9.7"
  }
 },
 "nbformat": 4,
 "nbformat_minor": 5
}
